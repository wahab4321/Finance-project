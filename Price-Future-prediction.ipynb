{
  "nbformat": 4,
  "nbformat_minor": 0,
  "metadata": {
    "colab": {
      "provenance": []
    },
    "kernelspec": {
      "name": "python3",
      "display_name": "Python 3"
    },
    "language_info": {
      "name": "python"
    }
  },
  "cells": [
    {
      "cell_type": "code",
      "execution_count": 81,
      "metadata": {
        "id": "AormQcsBfIjl"
      },
      "outputs": [],
      "source": [
        "\n",
        "import time\n",
        "import datetime\n",
        "import pandas as pd\n",
        "\n",
        "ticker = 'AAPL'\n",
        "period1 = int(time.mktime(datetime.datetime(2010, 12, 1, 23, 59).timetuple()))\n",
        "period2 = int(time.mktime(datetime.datetime(2022, 12, 1, 23, 59).timetuple()))\n",
        "interval = '1d' # 1d, 1m\n",
        "\n",
        "query_string = f'https://query1.finance.yahoo.com/v7/finance/download/{ticker}?period1={period1}&period2={period2}&interval={interval}&events=history&includeAdjustedClose=true'\n",
        "\n",
        "df = pd.read_csv(query_string)\n",
        "# print(df)\n",
        "df.to_csv('AAPL.csv')"
      ]
    },
    {
      "cell_type": "code",
      "source": [
        "from statsmodels.tsa.stattools import adfuller\n",
        "def ad_test(dataset):\n",
        "     dftest = adfuller(dataset, autolag = 'AIC')\n",
        "     print(\"1. ADF : \",dftest[0])\n",
        "     print(\"2. P-Value : \", dftest[1])\n",
        "     print(\"3. Num Of Lags : \", dftest[2])\n",
        "     print(\"4. Num Of Observations Used For ADF Regression:\",      dftest[3])\n",
        "     print(\"5. Critical Values :\")\n",
        "     for key, val in dftest[4].items():\n",
        "         print(\"\\t\",key, \": \", val)\n",
        "ad_test(df['Close'])"
      ],
      "metadata": {
        "colab": {
          "base_uri": "https://localhost:8080/"
        },
        "id": "rYd9K0Aijg1C",
        "outputId": "9fcce607-3fa2-4484-c3f1-a1c184d0677f"
      },
      "execution_count": 75,
      "outputs": [
        {
          "output_type": "stream",
          "name": "stdout",
          "text": [
            "1. ADF :  -1.3415990743508153\n",
            "2. P-Value :  0.6099324564594122\n",
            "3. Num Of Lags :  11\n",
            "4. Num Of Observations Used For ADF Regression: 995\n",
            "5. Critical Values :\n",
            "\t 1% :  -3.4369391965679257\n",
            "\t 5% :  -2.86444914142694\n",
            "\t 10% :  -2.5683189679553546\n"
          ]
        }
      ]
    },
    {
      "cell_type": "code",
      "source": [
        "from pmdarima import auto_arima\n",
        "stepwise_fit = auto_arima(df['Close'], trace=True,\n",
        "suppress_warnings=True)"
      ],
      "metadata": {
        "colab": {
          "base_uri": "https://localhost:8080/"
        },
        "id": "CNg2WvNWtS0M",
        "outputId": "54ead7f2-0f53-495f-e20f-15e60a7b8951"
      },
      "execution_count": 82,
      "outputs": [
        {
          "output_type": "stream",
          "name": "stdout",
          "text": [
            "Performing stepwise search to minimize aic\n",
            " ARIMA(2,1,2)(0,0,0)[0] intercept   : AIC=10790.079, Time=3.91 sec\n",
            " ARIMA(0,1,0)(0,0,0)[0] intercept   : AIC=10810.067, Time=0.07 sec\n",
            " ARIMA(1,1,0)(0,0,0)[0] intercept   : AIC=10801.017, Time=0.12 sec\n",
            " ARIMA(0,1,1)(0,0,0)[0] intercept   : AIC=10800.307, Time=0.25 sec\n",
            " ARIMA(0,1,0)(0,0,0)[0]             : AIC=10811.033, Time=0.07 sec\n",
            " ARIMA(1,1,2)(0,0,0)[0] intercept   : AIC=10801.060, Time=1.33 sec\n",
            " ARIMA(2,1,1)(0,0,0)[0] intercept   : AIC=10801.019, Time=1.72 sec\n",
            " ARIMA(3,1,2)(0,0,0)[0] intercept   : AIC=10795.513, Time=4.39 sec\n",
            " ARIMA(2,1,3)(0,0,0)[0] intercept   : AIC=10793.660, Time=2.35 sec\n",
            " ARIMA(1,1,1)(0,0,0)[0] intercept   : AIC=10799.259, Time=0.79 sec\n",
            " ARIMA(1,1,3)(0,0,0)[0] intercept   : AIC=10801.643, Time=1.33 sec\n",
            " ARIMA(3,1,1)(0,0,0)[0] intercept   : AIC=10801.157, Time=2.18 sec\n",
            " ARIMA(3,1,3)(0,0,0)[0] intercept   : AIC=10791.629, Time=5.07 sec\n",
            " ARIMA(2,1,2)(0,0,0)[0]             : AIC=inf, Time=2.06 sec\n",
            "\n",
            "Best model:  ARIMA(2,1,2)(0,0,0)[0] intercept\n",
            "Total fit time: 25.648 seconds\n"
          ]
        }
      ]
    },
    {
      "cell_type": "code",
      "source": [
        "pip install pmdarima"
      ],
      "metadata": {
        "id": "Ms1kXpJBFVnZ"
      },
      "execution_count": null,
      "outputs": []
    },
    {
      "cell_type": "code",
      "source": [
        "print(df.shape)\n",
        "train=df.iloc[:-30]\n",
        "test=df.iloc[-30:]\n",
        "print(train.shape,test.shape)"
      ],
      "metadata": {
        "colab": {
          "base_uri": "https://localhost:8080/"
        },
        "id": "tg_ZnXEJGae6",
        "outputId": "1bf82c08-312f-4e43-88aa-566f6daaa3ed"
      },
      "execution_count": 77,
      "outputs": [
        {
          "output_type": "stream",
          "name": "stdout",
          "text": [
            "(1007, 7)\n",
            "(977, 7) (30, 7)\n"
          ]
        }
      ]
    },
    {
      "cell_type": "code",
      "source": [
        "from statsmodels.tsa.arima.model import ARIMA\n",
        "model=ARIMA(train['Close'],order=(2,1,2))\n",
        "model=model.fit()\n",
        "model.summary()"
      ],
      "metadata": {
        "colab": {
          "base_uri": "https://localhost:8080/",
          "height": 473
        },
        "id": "8j0cPoEIGpIc",
        "outputId": "479b3471-89a1-4c27-f7b4-08f7f6cfb150"
      },
      "execution_count": 83,
      "outputs": [
        {
          "output_type": "execute_result",
          "data": {
            "text/plain": [
              "<class 'statsmodels.iolib.summary.Summary'>\n",
              "\"\"\"\n",
              "                               SARIMAX Results                                \n",
              "==============================================================================\n",
              "Dep. Variable:                  Close   No. Observations:                  977\n",
              "Model:                 ARIMA(2, 1, 2)   Log Likelihood               -2214.920\n",
              "Date:                Wed, 04 Jan 2023   AIC                           4439.839\n",
              "Time:                        11:46:38   BIC                           4464.257\n",
              "Sample:                             0   HQIC                          4449.130\n",
              "                                - 977                                         \n",
              "Covariance Type:                  opg                                         \n",
              "==============================================================================\n",
              "                 coef    std err          z      P>|z|      [0.025      0.975]\n",
              "------------------------------------------------------------------------------\n",
              "ar.L1          1.0029      0.091     11.049      0.000       0.825       1.181\n",
              "ar.L2         -0.8452      0.076    -11.068      0.000      -0.995      -0.695\n",
              "ma.L1         -1.0504      0.090    -11.639      0.000      -1.227      -0.873\n",
              "ma.L2          0.8547      0.076     11.294      0.000       0.706       1.003\n",
              "sigma2         5.4784      0.168     32.676      0.000       5.150       5.807\n",
              "===================================================================================\n",
              "Ljung-Box (L1) (Q):                   0.59   Jarque-Bera (JB):               257.55\n",
              "Prob(Q):                              0.44   Prob(JB):                         0.00\n",
              "Heteroskedasticity (H):               4.57   Skew:                            -0.24\n",
              "Prob(H) (two-sided):                  0.00   Kurtosis:                         5.47\n",
              "===================================================================================\n",
              "\n",
              "Warnings:\n",
              "[1] Covariance matrix calculated using the outer product of gradients (complex-step).\n",
              "\"\"\""
            ],
            "text/html": [
              "<table class=\"simpletable\">\n",
              "<caption>SARIMAX Results</caption>\n",
              "<tr>\n",
              "  <th>Dep. Variable:</th>         <td>Close</td>      <th>  No. Observations:  </th>    <td>977</td>   \n",
              "</tr>\n",
              "<tr>\n",
              "  <th>Model:</th>            <td>ARIMA(2, 1, 2)</td>  <th>  Log Likelihood     </th> <td>-2214.920</td>\n",
              "</tr>\n",
              "<tr>\n",
              "  <th>Date:</th>            <td>Wed, 04 Jan 2023</td> <th>  AIC                </th> <td>4439.839</td> \n",
              "</tr>\n",
              "<tr>\n",
              "  <th>Time:</th>                <td>11:46:38</td>     <th>  BIC                </th> <td>4464.257</td> \n",
              "</tr>\n",
              "<tr>\n",
              "  <th>Sample:</th>                  <td>0</td>        <th>  HQIC               </th> <td>4449.130</td> \n",
              "</tr>\n",
              "<tr>\n",
              "  <th></th>                      <td> - 977</td>      <th>                     </th>     <td> </td>    \n",
              "</tr>\n",
              "<tr>\n",
              "  <th>Covariance Type:</th>        <td>opg</td>       <th>                     </th>     <td> </td>    \n",
              "</tr>\n",
              "</table>\n",
              "<table class=\"simpletable\">\n",
              "<tr>\n",
              "     <td></td>       <th>coef</th>     <th>std err</th>      <th>z</th>      <th>P>|z|</th>  <th>[0.025</th>    <th>0.975]</th>  \n",
              "</tr>\n",
              "<tr>\n",
              "  <th>ar.L1</th>  <td>    1.0029</td> <td>    0.091</td> <td>   11.049</td> <td> 0.000</td> <td>    0.825</td> <td>    1.181</td>\n",
              "</tr>\n",
              "<tr>\n",
              "  <th>ar.L2</th>  <td>   -0.8452</td> <td>    0.076</td> <td>  -11.068</td> <td> 0.000</td> <td>   -0.995</td> <td>   -0.695</td>\n",
              "</tr>\n",
              "<tr>\n",
              "  <th>ma.L1</th>  <td>   -1.0504</td> <td>    0.090</td> <td>  -11.639</td> <td> 0.000</td> <td>   -1.227</td> <td>   -0.873</td>\n",
              "</tr>\n",
              "<tr>\n",
              "  <th>ma.L2</th>  <td>    0.8547</td> <td>    0.076</td> <td>   11.294</td> <td> 0.000</td> <td>    0.706</td> <td>    1.003</td>\n",
              "</tr>\n",
              "<tr>\n",
              "  <th>sigma2</th> <td>    5.4784</td> <td>    0.168</td> <td>   32.676</td> <td> 0.000</td> <td>    5.150</td> <td>    5.807</td>\n",
              "</tr>\n",
              "</table>\n",
              "<table class=\"simpletable\">\n",
              "<tr>\n",
              "  <th>Ljung-Box (L1) (Q):</th>     <td>0.59</td> <th>  Jarque-Bera (JB):  </th> <td>257.55</td>\n",
              "</tr>\n",
              "<tr>\n",
              "  <th>Prob(Q):</th>                <td>0.44</td> <th>  Prob(JB):          </th>  <td>0.00</td> \n",
              "</tr>\n",
              "<tr>\n",
              "  <th>Heteroskedasticity (H):</th> <td>4.57</td> <th>  Skew:              </th>  <td>-0.24</td>\n",
              "</tr>\n",
              "<tr>\n",
              "  <th>Prob(H) (two-sided):</th>    <td>0.00</td> <th>  Kurtosis:          </th>  <td>5.47</td> \n",
              "</tr>\n",
              "</table><br/><br/>Warnings:<br/>[1] Covariance matrix calculated using the outer product of gradients (complex-step)."
            ]
          },
          "metadata": {},
          "execution_count": 83
        }
      ]
    },
    {
      "cell_type": "code",
      "source": [
        "pip install statsmodels"
      ],
      "metadata": {
        "id": "0Oz7RupkHX10"
      },
      "execution_count": null,
      "outputs": []
    },
    {
      "cell_type": "code",
      "source": [
        "start=len(train)\n",
        "end=len(train)+len(test)-1\n",
        "pred=model.predict(start=start,end=end,typ='levels').rename('ARIMA Predictions')\n",
        "pred"
      ],
      "metadata": {
        "colab": {
          "base_uri": "https://localhost:8080/"
        },
        "id": "Y40oGH52IlIa",
        "outputId": "01b31dcf-5013-4467-9ff2-837c7203916c"
      },
      "execution_count": 84,
      "outputs": [
        {
          "output_type": "execute_result",
          "data": {
            "text/plain": [
              "977     144.134588\n",
              "978     144.183247\n",
              "979     143.999981\n",
              "980     143.775053\n",
              "981     143.704350\n",
              "982     143.823537\n",
              "983     144.002831\n",
              "984     144.081920\n",
              "985     144.009711\n",
              "986     143.870448\n",
              "987     143.791802\n",
              "988     143.830624\n",
              "989     143.936027\n",
              "990     144.008930\n",
              "991     143.992966\n",
              "992     143.915341\n",
              "993     143.850979\n",
              "994     143.852034\n",
              "995     143.907486\n",
              "996     143.962211\n",
              "997     143.970231\n",
              "998     143.932023\n",
              "999     143.886926\n",
              "1000    143.873986\n",
              "1001    143.899123\n",
              "1002    143.935270\n",
              "1003    143.950279\n",
              "1004    143.934782\n",
              "1005    143.906555\n",
              "1006    143.891342\n",
              "Name: ARIMA Predictions, dtype: float64"
            ]
          },
          "metadata": {},
          "execution_count": 84
        }
      ]
    },
    {
      "cell_type": "code",
      "source": [
        "from sklearn.metrics import mean_squared_error\n",
        "from math import sqrt\n",
        "test['Close'].mean()\n",
        "rmse=sqrt(mean_squared_error(pred,test['Close']))\n",
        "print((rmse/test['Close'].mean()) * 100)"
      ],
      "metadata": {
        "colab": {
          "base_uri": "https://localhost:8080/"
        },
        "id": "DnR61qcRJF0I",
        "outputId": "5cbd2dad-938e-4eec-ba33-a1c0e52c9de7"
      },
      "execution_count": 70,
      "outputs": [
        {
          "output_type": "stream",
          "name": "stdout",
          "text": [
            "3.6698964199248736\n"
          ]
        }
      ]
    },
    {
      "cell_type": "code",
      "source": [
        "import pandas as pd\n",
        "import statsmodels.api as sm\n",
        "\n",
        "# Load the data into a Pandas dataframe\n",
        "df = pd.read_csv(\"AAPL.csv\")\n",
        "\n",
        "# Fit an ARIMA model to the time series data\n",
        "model = sm.tsa.arima.ARIMA(df[\"Close\"], order=(2,1,1))\n",
        "model_fit = model.fit()\n",
        "\n",
        "# Make predictions for the next 5 time steps\n",
        "predictions = model_fit.predict(start=len(df), end=len(df)+5)\n",
        "predictions"
      ],
      "metadata": {
        "colab": {
          "base_uri": "https://localhost:8080/"
        },
        "id": "iUhd-czMm8KS",
        "outputId": "1a12f435-c790-4be2-bb21-19b2af721e15"
      },
      "execution_count": 93,
      "outputs": [
        {
          "output_type": "execute_result",
          "data": {
            "text/plain": [
              "3022    148.110358\n",
              "3023    148.054734\n",
              "3024    148.043119\n",
              "3025    148.040889\n",
              "3026    148.040473\n",
              "3027    148.040397\n",
              "Name: predicted_mean, dtype: float64"
            ]
          },
          "metadata": {},
          "execution_count": 93
        }
      ]
    },
    {
      "cell_type": "markdown",
      "source": [
        "Ecnomic Indicaters"
      ],
      "metadata": {
        "id": "gpl-6jOcrOS2"
      }
    },
    {
      "cell_type": "code",
      "source": [
        "\n"
      ],
      "metadata": {
        "id": "MpAMy469rLzK"
      },
      "execution_count": null,
      "outputs": []
    },
    {
      "cell_type": "code",
      "source": [
        "\n",
        "pip install requests"
      ],
      "metadata": {
        "id": "lmmYH0BTPkHn",
        "outputId": "e1777bb9-c363-48e0-a64e-04d2cb081b8e",
        "colab": {
          "base_uri": "https://localhost:8080/"
        }
      },
      "execution_count": 98,
      "outputs": [
        {
          "output_type": "stream",
          "name": "stdout",
          "text": [
            "Looking in indexes: https://pypi.org/simple, https://us-python.pkg.dev/colab-wheels/public/simple/\n",
            "Requirement already satisfied: requests in /usr/local/lib/python3.8/dist-packages (2.25.1)\n",
            "Requirement already satisfied: certifi>=2017.4.17 in /usr/local/lib/python3.8/dist-packages (from requests) (2022.12.7)\n",
            "Requirement already satisfied: idna<3,>=2.5 in /usr/local/lib/python3.8/dist-packages (from requests) (2.10)\n",
            "Requirement already satisfied: urllib3<1.27,>=1.21.1 in /usr/local/lib/python3.8/dist-packages (from requests) (1.24.3)\n",
            "Requirement already satisfied: chardet<5,>=3.0.2 in /usr/local/lib/python3.8/dist-packages (from requests) (4.0.0)\n"
          ]
        }
      ]
    },
    {
      "cell_type": "code",
      "source": [],
      "metadata": {
        "id": "IdqeMbbQdpCI"
      },
      "execution_count": null,
      "outputs": []
    }
  ]
}